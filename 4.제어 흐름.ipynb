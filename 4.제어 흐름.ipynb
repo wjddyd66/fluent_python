{
 "cells": [
  {
   "cell_type": "markdown",
   "id": "fefd028c-a370-44df-9790-f683403fd31e",
   "metadata": {},
   "source": [
    "### 반복자, 제너레이터, 고전적인 코루팅"
   ]
  },
  {
   "cell_type": "code",
   "execution_count": null,
   "id": "a66ff136-6949-48aa-b904-cf8db4c1f9a7",
   "metadata": {},
   "outputs": [],
   "source": []
  },
  {
   "cell_type": "code",
   "execution_count": null,
   "id": "29eea941-f55c-4221-a95f-7ca6e39d55d5",
   "metadata": {},
   "outputs": [],
   "source": []
  },
  {
   "cell_type": "code",
   "execution_count": null,
   "id": "6c0475fb-6f54-4aa8-b930-eb0d3fe9e739",
   "metadata": {},
   "outputs": [],
   "source": []
  },
  {
   "cell_type": "code",
   "execution_count": null,
   "id": "d86a2b6e-b36b-4f9c-9702-aad59441398a",
   "metadata": {},
   "outputs": [],
   "source": []
  },
  {
   "cell_type": "code",
   "execution_count": null,
   "id": "2f06b729-7a3a-42a9-bc87-3e19e858ee17",
   "metadata": {},
   "outputs": [],
   "source": []
  },
  {
   "cell_type": "markdown",
   "id": "31a81dca-40f7-4de9-99ee-eb4e28454f08",
   "metadata": {},
   "source": [
    "### with, match, else 블록"
   ]
  },
  {
   "cell_type": "code",
   "execution_count": null,
   "id": "0206f07a-b2bb-477a-bebe-baf7fe606cbe",
   "metadata": {},
   "outputs": [],
   "source": []
  },
  {
   "cell_type": "code",
   "execution_count": null,
   "id": "6c6e82b1-a782-4dc1-8c20-08fcee44b566",
   "metadata": {},
   "outputs": [],
   "source": []
  },
  {
   "cell_type": "code",
   "execution_count": null,
   "id": "7e73184e-6466-430c-9e0d-d1bda9602fa0",
   "metadata": {},
   "outputs": [],
   "source": []
  },
  {
   "cell_type": "code",
   "execution_count": null,
   "id": "b6a86a92-ac00-4121-9392-74d1e5972538",
   "metadata": {},
   "outputs": [],
   "source": []
  },
  {
   "cell_type": "markdown",
   "id": "e87639ef-a477-4f96-ae2e-b3045a909f01",
   "metadata": {},
   "source": [
    "### 파이썬 동시성 모델"
   ]
  },
  {
   "cell_type": "code",
   "execution_count": null,
   "id": "d8321921-d96d-4496-8522-f6c164933000",
   "metadata": {},
   "outputs": [],
   "source": []
  },
  {
   "cell_type": "code",
   "execution_count": null,
   "id": "0f42df08-32cd-497b-96c2-5b615b502798",
   "metadata": {},
   "outputs": [],
   "source": []
  },
  {
   "cell_type": "code",
   "execution_count": null,
   "id": "ca015c13-87fb-4d48-8623-7ccb19a1df07",
   "metadata": {},
   "outputs": [],
   "source": []
  },
  {
   "cell_type": "code",
   "execution_count": null,
   "id": "cc1b879a-5df7-4fc2-b7d8-aebeb681586d",
   "metadata": {},
   "outputs": [],
   "source": []
  },
  {
   "cell_type": "markdown",
   "id": "d9e253bd-e31a-4ea8-bef5-6b623e314a7e",
   "metadata": {},
   "source": [
    "### 동시 실행자"
   ]
  },
  {
   "cell_type": "code",
   "execution_count": null,
   "id": "d8dbc055-b996-4e27-8c01-ae6e683dfb0e",
   "metadata": {},
   "outputs": [],
   "source": []
  },
  {
   "cell_type": "code",
   "execution_count": null,
   "id": "82682924-b404-4bc6-91d0-81df23da90c0",
   "metadata": {},
   "outputs": [],
   "source": []
  },
  {
   "cell_type": "code",
   "execution_count": null,
   "id": "b6f0052f-6d99-41d4-a7b0-27bdc0546d80",
   "metadata": {},
   "outputs": [],
   "source": []
  },
  {
   "cell_type": "code",
   "execution_count": null,
   "id": "d4d1e7af-a738-4bd8-ad50-2ef6c7c70e1b",
   "metadata": {},
   "outputs": [],
   "source": []
  },
  {
   "cell_type": "markdown",
   "id": "99976aaf-26da-480d-a378-78aa50fd9828",
   "metadata": {},
   "source": [
    "### 비동기 프로그래밍"
   ]
  },
  {
   "cell_type": "code",
   "execution_count": null,
   "id": "032a0aee-788a-4a59-9c2c-a70b66e974ea",
   "metadata": {},
   "outputs": [],
   "source": []
  },
  {
   "cell_type": "code",
   "execution_count": null,
   "id": "97337285-2c4b-4c30-a9c2-18b5dd98d412",
   "metadata": {},
   "outputs": [],
   "source": []
  },
  {
   "cell_type": "code",
   "execution_count": null,
   "id": "2ed8a4f6-b7c7-41f0-ac6e-86623d5a4881",
   "metadata": {},
   "outputs": [],
   "source": []
  },
  {
   "cell_type": "code",
   "execution_count": null,
   "id": "ea452edd-dc1b-4f4a-ba22-25747bea11cb",
   "metadata": {},
   "outputs": [],
   "source": []
  }
 ],
 "metadata": {
  "kernelspec": {
   "display_name": "Python 3 (ipykernel)",
   "language": "python",
   "name": "python3"
  },
  "language_info": {
   "codemirror_mode": {
    "name": "ipython",
    "version": 3
   },
   "file_extension": ".py",
   "mimetype": "text/x-python",
   "name": "python",
   "nbconvert_exporter": "python",
   "pygments_lexer": "ipython3",
   "version": "3.12.8"
  }
 },
 "nbformat": 4,
 "nbformat_minor": 5
}
