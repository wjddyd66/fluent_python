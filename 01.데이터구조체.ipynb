{
 "cells": [
  {
   "cell_type": "markdown",
   "id": "82896a73-f373-4f5b-8592-922084ef5bec",
   "metadata": {},
   "source": [
    "### 파이썬 데이터 모델"
   ]
  },
  {
   "cell_type": "code",
   "execution_count": null,
   "id": "3e76c064-555a-40df-b2fc-5f1b7cacafed",
   "metadata": {},
   "outputs": [],
   "source": []
  },
  {
   "cell_type": "code",
   "execution_count": null,
   "id": "3a8871b1-7499-447b-b84e-9e1f3f571fed",
   "metadata": {},
   "outputs": [],
   "source": []
  },
  {
   "cell_type": "code",
   "execution_count": null,
   "id": "715a1c5c-e9a0-48ba-81e7-b5de5032ac48",
   "metadata": {},
   "outputs": [],
   "source": []
  },
  {
   "cell_type": "code",
   "execution_count": null,
   "id": "65bc3572-71be-4b8a-9dae-2df553f35a86",
   "metadata": {},
   "outputs": [],
   "source": []
  },
  {
   "cell_type": "code",
   "execution_count": null,
   "id": "156985fc-793c-48a1-b8f8-82b365fee33d",
   "metadata": {},
   "outputs": [],
   "source": []
  },
  {
   "cell_type": "code",
   "execution_count": null,
   "id": "cc125258-123e-4847-a45f-4dc70cf97c0e",
   "metadata": {},
   "outputs": [],
   "source": []
  },
  {
   "cell_type": "code",
   "execution_count": null,
   "id": "73083428-6dee-4a58-b29b-93d813bb3587",
   "metadata": {},
   "outputs": [],
   "source": []
  },
  {
   "cell_type": "code",
   "execution_count": null,
   "id": "25c5860c-9fe3-448a-8cdf-691643ddb8ab",
   "metadata": {},
   "outputs": [],
   "source": []
  },
  {
   "cell_type": "code",
   "execution_count": null,
   "id": "b54579ac-6222-4895-81b6-990d2db317e8",
   "metadata": {},
   "outputs": [],
   "source": []
  },
  {
   "cell_type": "code",
   "execution_count": null,
   "id": "6c833e5b-2f9c-4615-afbc-1ccacd02a7a0",
   "metadata": {},
   "outputs": [],
   "source": []
  },
  {
   "cell_type": "markdown",
   "id": "133357c0-a9c7-4d99-84a8-8ec32b8eeab5",
   "metadata": {},
   "source": [
    "### 시퀀스의 배열"
   ]
  },
  {
   "cell_type": "code",
   "execution_count": null,
   "id": "2b648381-c4c6-445f-9904-1589c1237063",
   "metadata": {},
   "outputs": [],
   "source": []
  },
  {
   "cell_type": "code",
   "execution_count": null,
   "id": "88e1665a-b97d-42bb-90ef-b82d6d93527b",
   "metadata": {},
   "outputs": [],
   "source": []
  },
  {
   "cell_type": "code",
   "execution_count": null,
   "id": "66b4f0a0-3b83-4b4f-a89f-e7e0c48bfa7b",
   "metadata": {},
   "outputs": [],
   "source": []
  },
  {
   "cell_type": "code",
   "execution_count": null,
   "id": "defdd263-ad4d-4a41-8822-fed9990978d8",
   "metadata": {},
   "outputs": [],
   "source": []
  },
  {
   "cell_type": "code",
   "execution_count": null,
   "id": "40c310bf-7c28-4d34-8ad1-b2817e9b20a7",
   "metadata": {},
   "outputs": [],
   "source": []
  },
  {
   "cell_type": "code",
   "execution_count": null,
   "id": "6aeed772-8d27-4270-9bc2-915ae8dcaece",
   "metadata": {},
   "outputs": [],
   "source": []
  },
  {
   "cell_type": "code",
   "execution_count": null,
   "id": "fddf26c5-efe3-4bcb-8fcb-e2add24f0def",
   "metadata": {},
   "outputs": [],
   "source": []
  },
  {
   "cell_type": "code",
   "execution_count": null,
   "id": "8ae667ce-da37-4930-b2a4-362cd264b921",
   "metadata": {},
   "outputs": [],
   "source": []
  },
  {
   "cell_type": "code",
   "execution_count": null,
   "id": "e74831c7-d321-4eed-84c7-2976f3b4d5ac",
   "metadata": {},
   "outputs": [],
   "source": []
  },
  {
   "cell_type": "code",
   "execution_count": null,
   "id": "638b88f1-6990-4ec6-9797-2f9ea7b5275c",
   "metadata": {},
   "outputs": [],
   "source": []
  },
  {
   "cell_type": "code",
   "execution_count": null,
   "id": "a3c44399-f3c4-4122-a08a-f210da2556b7",
   "metadata": {},
   "outputs": [],
   "source": []
  },
  {
   "cell_type": "markdown",
   "id": "68bc566d-67f9-4e2e-9b58-dd5d5e664c80",
   "metadata": {},
   "source": [
    "### 딕셔너리와 집합"
   ]
  },
  {
   "cell_type": "code",
   "execution_count": null,
   "id": "ed301fef-7659-4e75-8589-6f11ee6042b6",
   "metadata": {},
   "outputs": [],
   "source": []
  },
  {
   "cell_type": "code",
   "execution_count": null,
   "id": "7a39da9b-a83c-4d62-befc-3c917384b6f4",
   "metadata": {},
   "outputs": [],
   "source": []
  },
  {
   "cell_type": "code",
   "execution_count": null,
   "id": "bc8b57be-ed68-42f4-b5b0-39f9c2270bf9",
   "metadata": {},
   "outputs": [],
   "source": []
  },
  {
   "cell_type": "code",
   "execution_count": null,
   "id": "e87661df-3fb4-4813-8433-618b8f961cf3",
   "metadata": {},
   "outputs": [],
   "source": []
  },
  {
   "cell_type": "code",
   "execution_count": null,
   "id": "a20a210f-3b87-473c-b99e-1fe9cd3599f0",
   "metadata": {},
   "outputs": [],
   "source": []
  },
  {
   "cell_type": "code",
   "execution_count": null,
   "id": "331d3e7d-25bf-4981-b0c2-86bfc5d4e9ff",
   "metadata": {},
   "outputs": [],
   "source": []
  },
  {
   "cell_type": "code",
   "execution_count": null,
   "id": "0689fced-57fa-41cd-be2b-a09761541651",
   "metadata": {},
   "outputs": [],
   "source": []
  },
  {
   "cell_type": "code",
   "execution_count": null,
   "id": "94167baa-cc64-4714-b66e-c555937172ba",
   "metadata": {},
   "outputs": [],
   "source": []
  },
  {
   "cell_type": "code",
   "execution_count": null,
   "id": "07c76423-caae-47af-85cb-d1922732a284",
   "metadata": {},
   "outputs": [],
   "source": []
  },
  {
   "cell_type": "markdown",
   "id": "8ffc546f-031d-4878-b23b-97228187dcfd",
   "metadata": {},
   "source": [
    "### 유니코드 텍스트와 바이트"
   ]
  },
  {
   "cell_type": "code",
   "execution_count": null,
   "id": "6c1f6de9-a49a-4304-813f-7e011a2e382c",
   "metadata": {},
   "outputs": [],
   "source": []
  },
  {
   "cell_type": "code",
   "execution_count": null,
   "id": "bd26c5b1-f9ab-4301-913d-417a265f5686",
   "metadata": {},
   "outputs": [],
   "source": []
  },
  {
   "cell_type": "code",
   "execution_count": null,
   "id": "044728c1-56e6-484e-8a3f-83f7970808bc",
   "metadata": {},
   "outputs": [],
   "source": []
  },
  {
   "cell_type": "code",
   "execution_count": null,
   "id": "e99b4bff-6180-4ab3-aedd-b9558b1ec8c6",
   "metadata": {},
   "outputs": [],
   "source": []
  },
  {
   "cell_type": "code",
   "execution_count": null,
   "id": "f37582b5-7a41-44fc-802d-a596700cbdb1",
   "metadata": {},
   "outputs": [],
   "source": []
  },
  {
   "cell_type": "code",
   "execution_count": null,
   "id": "120346d3-cd42-417a-be3a-669906def522",
   "metadata": {},
   "outputs": [],
   "source": []
  },
  {
   "cell_type": "code",
   "execution_count": null,
   "id": "48540a37-8fcc-4f4d-8f13-2cf8cff2b20b",
   "metadata": {},
   "outputs": [],
   "source": []
  },
  {
   "cell_type": "code",
   "execution_count": null,
   "id": "49c24375-f89b-4461-9783-9c57333caae1",
   "metadata": {},
   "outputs": [],
   "source": []
  },
  {
   "cell_type": "code",
   "execution_count": null,
   "id": "d0ee65d4-1204-41b9-af46-76c46d1d8814",
   "metadata": {},
   "outputs": [],
   "source": []
  },
  {
   "cell_type": "markdown",
   "id": "e6cfabf3-13ca-47e5-a91d-bb485130ecf9",
   "metadata": {},
   "source": [
    "### 데이터 클래스 빌더"
   ]
  },
  {
   "cell_type": "code",
   "execution_count": null,
   "id": "41c028db-afd3-4e1e-b5a4-99eb15bbed81",
   "metadata": {},
   "outputs": [],
   "source": []
  },
  {
   "cell_type": "code",
   "execution_count": null,
   "id": "0d4079cf-7773-4ce0-9ef4-77bd99fc83a6",
   "metadata": {},
   "outputs": [],
   "source": []
  },
  {
   "cell_type": "code",
   "execution_count": null,
   "id": "ddbd2a13-96ad-4a0c-8f45-86d558199100",
   "metadata": {},
   "outputs": [],
   "source": []
  },
  {
   "cell_type": "code",
   "execution_count": null,
   "id": "434c5b24-d860-499c-ba50-fdddf9bbfc48",
   "metadata": {},
   "outputs": [],
   "source": []
  },
  {
   "cell_type": "code",
   "execution_count": null,
   "id": "91242781-63ec-4ded-ade8-b61be7041c82",
   "metadata": {},
   "outputs": [],
   "source": []
  },
  {
   "cell_type": "code",
   "execution_count": null,
   "id": "bdc2a5fb-475f-4529-a85e-719400827094",
   "metadata": {},
   "outputs": [],
   "source": []
  },
  {
   "cell_type": "code",
   "execution_count": null,
   "id": "7bef2124-d630-45c3-8aa0-e47178935f44",
   "metadata": {},
   "outputs": [],
   "source": []
  },
  {
   "cell_type": "code",
   "execution_count": null,
   "id": "b8cea28f-4ddc-4713-9442-a28bd00d8e19",
   "metadata": {},
   "outputs": [],
   "source": []
  },
  {
   "cell_type": "code",
   "execution_count": null,
   "id": "fc402192-a489-449f-b2b8-30be5de8a6a4",
   "metadata": {},
   "outputs": [],
   "source": []
  },
  {
   "cell_type": "code",
   "execution_count": null,
   "id": "838974b9-f0b6-40f3-8a76-ea53f7a07d85",
   "metadata": {},
   "outputs": [],
   "source": []
  },
  {
   "cell_type": "markdown",
   "id": "797eb393-9f5c-4a06-88b6-aeac8987812c",
   "metadata": {},
   "source": [
    "### 객체 참조, 가변성, 재활용"
   ]
  },
  {
   "cell_type": "code",
   "execution_count": null,
   "id": "e63330ca-1702-4312-8dec-ea7a60f5fbe3",
   "metadata": {},
   "outputs": [],
   "source": []
  },
  {
   "cell_type": "code",
   "execution_count": null,
   "id": "242d0b4e-3967-4509-a3cd-ba923f5bd55e",
   "metadata": {},
   "outputs": [],
   "source": []
  },
  {
   "cell_type": "code",
   "execution_count": null,
   "id": "c271e72e-1aec-46dc-b05c-59cee2254c46",
   "metadata": {},
   "outputs": [],
   "source": []
  },
  {
   "cell_type": "code",
   "execution_count": null,
   "id": "ef17f05d-1601-4afc-90bd-c49276988fcd",
   "metadata": {},
   "outputs": [],
   "source": []
  },
  {
   "cell_type": "code",
   "execution_count": null,
   "id": "8828fea1-ff80-43b9-99d7-358408211251",
   "metadata": {},
   "outputs": [],
   "source": []
  },
  {
   "cell_type": "code",
   "execution_count": null,
   "id": "a984b8b5-34fa-4786-8b1d-44f1816c4466",
   "metadata": {},
   "outputs": [],
   "source": []
  },
  {
   "cell_type": "code",
   "execution_count": null,
   "id": "1c2e7389-f6be-490f-b944-5beeccd9bebb",
   "metadata": {},
   "outputs": [],
   "source": []
  },
  {
   "cell_type": "code",
   "execution_count": null,
   "id": "aeba273d-abe6-4a43-a77c-f5db9c2f3f16",
   "metadata": {},
   "outputs": [],
   "source": []
  },
  {
   "cell_type": "code",
   "execution_count": null,
   "id": "794dcef6-d7b8-46ee-a423-87e620675f41",
   "metadata": {},
   "outputs": [],
   "source": []
  },
  {
   "cell_type": "code",
   "execution_count": null,
   "id": "1e5faf0f-3522-4cab-8521-63bf1ecacf5a",
   "metadata": {},
   "outputs": [],
   "source": []
  }
 ],
 "metadata": {
  "kernelspec": {
   "display_name": "Python 3 (ipykernel)",
   "language": "python",
   "name": "python3"
  },
  "language_info": {
   "codemirror_mode": {
    "name": "ipython",
    "version": 3
   },
   "file_extension": ".py",
   "mimetype": "text/x-python",
   "name": "python",
   "nbconvert_exporter": "python",
   "pygments_lexer": "ipython3",
   "version": "3.12.8"
  }
 },
 "nbformat": 4,
 "nbformat_minor": 5
}
