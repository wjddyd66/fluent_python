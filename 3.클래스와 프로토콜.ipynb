{
 "cells": [
  {
   "cell_type": "markdown",
   "id": "0aef83c9-7912-40d9-99d4-d79b971e26c5",
   "metadata": {},
   "source": [
    "### 파이썬다운 객체"
   ]
  },
  {
   "cell_type": "code",
   "execution_count": null,
   "id": "f75dea8f-45e5-4f82-939c-88b29fadbec9",
   "metadata": {},
   "outputs": [],
   "source": []
  },
  {
   "cell_type": "code",
   "execution_count": null,
   "id": "6709cf1d-2176-4012-8ac0-c980e881b9d8",
   "metadata": {},
   "outputs": [],
   "source": []
  },
  {
   "cell_type": "code",
   "execution_count": null,
   "id": "314efcc9-43b4-4c58-a568-9c83ddce812b",
   "metadata": {},
   "outputs": [],
   "source": []
  },
  {
   "cell_type": "code",
   "execution_count": null,
   "id": "616b8488-1fe6-47b1-8b2b-1c5ac4fe0b41",
   "metadata": {},
   "outputs": [],
   "source": []
  },
  {
   "cell_type": "code",
   "execution_count": null,
   "id": "20fe3f25-2651-4d6d-9a19-27e29895b22c",
   "metadata": {},
   "outputs": [],
   "source": []
  },
  {
   "cell_type": "code",
   "execution_count": null,
   "id": "857c9ffd-bfd4-43e8-9235-7606b3d517c6",
   "metadata": {},
   "outputs": [],
   "source": []
  },
  {
   "cell_type": "code",
   "execution_count": null,
   "id": "ff45f6e1-eec4-442c-97e4-688d9718f77c",
   "metadata": {},
   "outputs": [],
   "source": []
  },
  {
   "cell_type": "markdown",
   "id": "555b07e0-645d-40d1-ac1a-cbb3f55bd07f",
   "metadata": {},
   "source": [
    "### 시퀀스 특별 메소드"
   ]
  },
  {
   "cell_type": "code",
   "execution_count": null,
   "id": "101ed3c3-c029-4573-abf7-3d8f835bd9e0",
   "metadata": {},
   "outputs": [],
   "source": []
  },
  {
   "cell_type": "code",
   "execution_count": null,
   "id": "8e915c0a-5489-4cd6-9452-f225ae1a8b3d",
   "metadata": {},
   "outputs": [],
   "source": []
  },
  {
   "cell_type": "code",
   "execution_count": null,
   "id": "93ed2462-c4c0-46ad-b802-f3afa892e4c4",
   "metadata": {},
   "outputs": [],
   "source": []
  },
  {
   "cell_type": "code",
   "execution_count": null,
   "id": "75bc10ae-8f73-47ff-becf-71b195b92a80",
   "metadata": {},
   "outputs": [],
   "source": []
  },
  {
   "cell_type": "code",
   "execution_count": null,
   "id": "2e1bca06-34be-4cc0-926d-e927feeccf5a",
   "metadata": {},
   "outputs": [],
   "source": []
  },
  {
   "cell_type": "markdown",
   "id": "9290d408-e4da-414a-8824-a7d12ec75b46",
   "metadata": {},
   "source": [
    "### 인터페이스, 프로토콜, 추상 베이스 클래스"
   ]
  },
  {
   "cell_type": "code",
   "execution_count": null,
   "id": "7c2fca5b-ad79-4c0c-94f8-d2ae8a44400f",
   "metadata": {},
   "outputs": [],
   "source": []
  },
  {
   "cell_type": "code",
   "execution_count": null,
   "id": "be05b534-e5b3-4c4f-abb6-0483b175816b",
   "metadata": {},
   "outputs": [],
   "source": []
  },
  {
   "cell_type": "code",
   "execution_count": null,
   "id": "a4174f44-6f5d-45b6-aa9f-2e694c0c7d5d",
   "metadata": {},
   "outputs": [],
   "source": []
  },
  {
   "cell_type": "code",
   "execution_count": null,
   "id": "0d57e09f-7085-4a39-922f-5a2bdf8c8224",
   "metadata": {},
   "outputs": [],
   "source": []
  },
  {
   "cell_type": "code",
   "execution_count": null,
   "id": "468f591f-74f0-485c-b0a4-04cae3185b1a",
   "metadata": {},
   "outputs": [],
   "source": []
  },
  {
   "cell_type": "markdown",
   "id": "01cbcf7f-3ae3-4b0b-866b-ddd2b99c3c60",
   "metadata": {},
   "source": [
    "### 상속: 득과 실"
   ]
  },
  {
   "cell_type": "code",
   "execution_count": null,
   "id": "6f4ada7e-4ab7-4255-bcce-98dac952cfe4",
   "metadata": {},
   "outputs": [],
   "source": []
  },
  {
   "cell_type": "code",
   "execution_count": null,
   "id": "0e287f22-dd4c-4d01-8ec9-358d4d8cfd4e",
   "metadata": {},
   "outputs": [],
   "source": []
  },
  {
   "cell_type": "markdown",
   "id": "86ea4b47-0f29-4ed8-9dd4-a989548e03e7",
   "metadata": {},
   "source": [
    "### 자료형 힌트 조금 더 알아보기"
   ]
  },
  {
   "cell_type": "code",
   "execution_count": null,
   "id": "bb15dc08-b9b6-42fd-a8fe-2a868607964b",
   "metadata": {},
   "outputs": [],
   "source": []
  },
  {
   "cell_type": "code",
   "execution_count": null,
   "id": "e47f3550-98a7-4201-adb7-6f4b4abca832",
   "metadata": {},
   "outputs": [],
   "source": []
  },
  {
   "cell_type": "code",
   "execution_count": null,
   "id": "34a30a49-7c60-4f41-82ee-ddfdffe4d6d8",
   "metadata": {},
   "outputs": [],
   "source": []
  },
  {
   "cell_type": "code",
   "execution_count": null,
   "id": "6998db53-2eb7-472d-9fb8-9f6e4a0b31ce",
   "metadata": {},
   "outputs": [],
   "source": []
  },
  {
   "cell_type": "code",
   "execution_count": null,
   "id": "88f052cc-937b-40e1-831a-134f4bb0dcec",
   "metadata": {},
   "outputs": [],
   "source": []
  },
  {
   "cell_type": "markdown",
   "id": "e3bc8554-d436-4be2-b418-05e597dcefb3",
   "metadata": {},
   "source": [
    "### 연산자 오버로딩"
   ]
  },
  {
   "cell_type": "code",
   "execution_count": null,
   "id": "e484712b-3750-4f7d-9a9c-f666e77bc78d",
   "metadata": {},
   "outputs": [],
   "source": []
  },
  {
   "cell_type": "code",
   "execution_count": null,
   "id": "8c409304-ab24-4579-a33b-e038f0ec44a2",
   "metadata": {},
   "outputs": [],
   "source": []
  },
  {
   "cell_type": "code",
   "execution_count": null,
   "id": "75e2d97b-0b4d-4899-952b-50196b47ea2e",
   "metadata": {},
   "outputs": [],
   "source": []
  }
 ],
 "metadata": {
  "kernelspec": {
   "display_name": "Python 3 (ipykernel)",
   "language": "python",
   "name": "python3"
  },
  "language_info": {
   "codemirror_mode": {
    "name": "ipython",
    "version": 3
   },
   "file_extension": ".py",
   "mimetype": "text/x-python",
   "name": "python",
   "nbconvert_exporter": "python",
   "pygments_lexer": "ipython3",
   "version": "3.12.8"
  }
 },
 "nbformat": 4,
 "nbformat_minor": 5
}
