{
 "cells": [
  {
   "cell_type": "markdown",
   "id": "e7b1a364-6f57-48ee-ab6e-a61d908df081",
   "metadata": {},
   "source": [
    "### 일급 객체로서의 함수"
   ]
  },
  {
   "cell_type": "code",
   "execution_count": null,
   "id": "890376e7-d090-422a-adc3-8e374bc03fb5",
   "metadata": {},
   "outputs": [],
   "source": []
  },
  {
   "cell_type": "code",
   "execution_count": null,
   "id": "ecaee7ef-fc1b-45ed-a4e0-3e64de383a45",
   "metadata": {},
   "outputs": [],
   "source": []
  },
  {
   "cell_type": "code",
   "execution_count": null,
   "id": "a4af5d53-9450-4bf4-abb2-368ea101b70c",
   "metadata": {},
   "outputs": [],
   "source": []
  },
  {
   "cell_type": "code",
   "execution_count": null,
   "id": "85642264-501c-4314-82bf-e5cefb5afdca",
   "metadata": {},
   "outputs": [],
   "source": []
  },
  {
   "cell_type": "code",
   "execution_count": null,
   "id": "4f0daec7-112e-4b7e-b9b2-1b79506ae7ef",
   "metadata": {},
   "outputs": [],
   "source": []
  },
  {
   "cell_type": "code",
   "execution_count": null,
   "id": "55e2f858-5810-4c23-ae00-71f3a0692056",
   "metadata": {},
   "outputs": [],
   "source": []
  },
  {
   "cell_type": "code",
   "execution_count": null,
   "id": "eaab51f2-650e-4e26-8d1c-1a5f16c79e58",
   "metadata": {},
   "outputs": [],
   "source": []
  },
  {
   "cell_type": "code",
   "execution_count": null,
   "id": "46553db3-695c-4329-a687-f585bb5826b9",
   "metadata": {},
   "outputs": [],
   "source": []
  },
  {
   "cell_type": "code",
   "execution_count": null,
   "id": "bc5b1e78-3355-4e00-b0e2-6eeb9421ff7a",
   "metadata": {},
   "outputs": [],
   "source": []
  },
  {
   "cell_type": "markdown",
   "id": "46ec17ae-ad83-4be3-8407-34ff7a8869cf",
   "metadata": {},
   "source": [
    "### 함수에서의 자료형 힌트"
   ]
  },
  {
   "cell_type": "code",
   "execution_count": null,
   "id": "5dff814e-f97c-4ec9-9f3c-006222a479ef",
   "metadata": {},
   "outputs": [],
   "source": []
  },
  {
   "cell_type": "code",
   "execution_count": null,
   "id": "5a2ce870-23ee-459b-b0fe-47dcbc9a911b",
   "metadata": {},
   "outputs": [],
   "source": []
  },
  {
   "cell_type": "code",
   "execution_count": null,
   "id": "92afa96c-5d26-4746-ac2e-de086ddcdbb6",
   "metadata": {},
   "outputs": [],
   "source": []
  },
  {
   "cell_type": "code",
   "execution_count": null,
   "id": "5cbeadfc-3a3a-44d0-8d0b-d6ad7da00d19",
   "metadata": {},
   "outputs": [],
   "source": []
  },
  {
   "cell_type": "code",
   "execution_count": null,
   "id": "79a195a3-a993-4cda-bd23-2f14775e37d3",
   "metadata": {},
   "outputs": [],
   "source": []
  },
  {
   "cell_type": "code",
   "execution_count": null,
   "id": "fa47fe58-1734-411d-a8cd-a8574a95bfff",
   "metadata": {},
   "outputs": [],
   "source": []
  },
  {
   "cell_type": "code",
   "execution_count": null,
   "id": "12330ba1-d72a-43d3-a1b5-b4f067341c41",
   "metadata": {},
   "outputs": [],
   "source": []
  },
  {
   "cell_type": "markdown",
   "id": "0a94ddd1-352f-4093-9f9a-c756edc54320",
   "metadata": {},
   "source": [
    "### 데커레이터와 클로저"
   ]
  },
  {
   "cell_type": "code",
   "execution_count": null,
   "id": "e24cd994-c2b7-48ee-9451-a851465e5d83",
   "metadata": {},
   "outputs": [],
   "source": []
  },
  {
   "cell_type": "code",
   "execution_count": null,
   "id": "7027bb1e-3606-4f23-a2e4-194999b79f5d",
   "metadata": {},
   "outputs": [],
   "source": []
  },
  {
   "cell_type": "code",
   "execution_count": null,
   "id": "bd0ae0b5-80ac-4ed3-b3e1-8cf0774bbb46",
   "metadata": {},
   "outputs": [],
   "source": []
  },
  {
   "cell_type": "code",
   "execution_count": null,
   "id": "25d6ea07-f151-4486-8c41-151ac9a9285f",
   "metadata": {},
   "outputs": [],
   "source": []
  },
  {
   "cell_type": "code",
   "execution_count": null,
   "id": "831f7739-13fb-4eed-8980-a655942f6feb",
   "metadata": {},
   "outputs": [],
   "source": []
  },
  {
   "cell_type": "code",
   "execution_count": null,
   "id": "089763ca-feaf-4445-9f11-2a4e620d2016",
   "metadata": {},
   "outputs": [],
   "source": []
  },
  {
   "cell_type": "code",
   "execution_count": null,
   "id": "928d60cb-5f9f-4b13-974b-ac0518e690d0",
   "metadata": {},
   "outputs": [],
   "source": []
  },
  {
   "cell_type": "code",
   "execution_count": null,
   "id": "adb19de2-c97a-4fc0-b7af-273a488da670",
   "metadata": {},
   "outputs": [],
   "source": []
  },
  {
   "cell_type": "code",
   "execution_count": null,
   "id": "99868406-543e-4e60-9f9f-13d5237bb0d8",
   "metadata": {},
   "outputs": [],
   "source": []
  },
  {
   "cell_type": "code",
   "execution_count": null,
   "id": "ffbc523d-f7a6-4c6d-8f9a-4ae23e547a7f",
   "metadata": {},
   "outputs": [],
   "source": []
  },
  {
   "cell_type": "code",
   "execution_count": null,
   "id": "9b6ee7de-204e-4099-a87b-253b2b1068e7",
   "metadata": {},
   "outputs": [],
   "source": []
  },
  {
   "cell_type": "code",
   "execution_count": null,
   "id": "1843185a-7a0a-4046-b54f-9348010c6c79",
   "metadata": {},
   "outputs": [],
   "source": []
  },
  {
   "cell_type": "markdown",
   "id": "a5b7edaf-c448-4741-afd4-3380d5447d3c",
   "metadata": {},
   "source": [
    "### 일급 함수 디자인 패턴"
   ]
  },
  {
   "cell_type": "code",
   "execution_count": null,
   "id": "cfc20d49-2757-4634-a62d-2b9a6b782bca",
   "metadata": {},
   "outputs": [],
   "source": []
  },
  {
   "cell_type": "code",
   "execution_count": null,
   "id": "b30a4e3d-d0cf-423f-aeb8-ee2e54cfffbc",
   "metadata": {},
   "outputs": [],
   "source": []
  },
  {
   "cell_type": "code",
   "execution_count": null,
   "id": "960432aa-c9e0-4f9a-99e0-7a03bfa0ac38",
   "metadata": {},
   "outputs": [],
   "source": []
  },
  {
   "cell_type": "code",
   "execution_count": null,
   "id": "10d1ff12-fa02-4384-9336-531ef155a796",
   "metadata": {},
   "outputs": [],
   "source": []
  },
  {
   "cell_type": "code",
   "execution_count": null,
   "id": "766b6b8f-9bf6-4b8a-9315-1acd80af7a10",
   "metadata": {},
   "outputs": [],
   "source": []
  },
  {
   "cell_type": "code",
   "execution_count": null,
   "id": "1efc4bb3-74d1-4c01-85b7-17362338ec80",
   "metadata": {},
   "outputs": [],
   "source": []
  },
  {
   "cell_type": "code",
   "execution_count": null,
   "id": "842d086a-fe1f-4283-bf41-97998882a365",
   "metadata": {},
   "outputs": [],
   "source": []
  },
  {
   "cell_type": "code",
   "execution_count": null,
   "id": "b4b16e0b-e410-4cf2-bcb5-114123d90cc3",
   "metadata": {},
   "outputs": [],
   "source": []
  },
  {
   "cell_type": "code",
   "execution_count": null,
   "id": "e38a8d37-c51e-4ad7-bb3d-bee32d60e8f5",
   "metadata": {},
   "outputs": [],
   "source": []
  },
  {
   "cell_type": "code",
   "execution_count": null,
   "id": "170829c5-cc47-43e0-ab2b-d745a457b30a",
   "metadata": {},
   "outputs": [],
   "source": []
  },
  {
   "cell_type": "code",
   "execution_count": null,
   "id": "d52b8a04-0e64-4e74-8e64-a12dce5a5fa5",
   "metadata": {},
   "outputs": [],
   "source": []
  }
 ],
 "metadata": {
  "kernelspec": {
   "display_name": "Python 3 (ipykernel)",
   "language": "python",
   "name": "python3"
  },
  "language_info": {
   "codemirror_mode": {
    "name": "ipython",
    "version": 3
   },
   "file_extension": ".py",
   "mimetype": "text/x-python",
   "name": "python",
   "nbconvert_exporter": "python",
   "pygments_lexer": "ipython3",
   "version": "3.12.8"
  }
 },
 "nbformat": 4,
 "nbformat_minor": 5
}
