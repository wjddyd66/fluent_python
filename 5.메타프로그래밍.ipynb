{
 "cells": [
  {
   "cell_type": "markdown",
   "id": "678005ed-085f-482a-8cf5-1e7ade2c148f",
   "metadata": {},
   "source": [
    "### 동적 속성과 프로퍼티"
   ]
  },
  {
   "cell_type": "code",
   "execution_count": null,
   "id": "6c255f9d-a9bc-4fab-97ea-df761f15df24",
   "metadata": {},
   "outputs": [],
   "source": []
  },
  {
   "cell_type": "code",
   "execution_count": null,
   "id": "abf21121-772f-44e9-806f-caf7cb4584ce",
   "metadata": {},
   "outputs": [],
   "source": []
  },
  {
   "cell_type": "code",
   "execution_count": null,
   "id": "a6f617db-36cc-41ea-b1c3-f149f03dc4f9",
   "metadata": {},
   "outputs": [],
   "source": []
  },
  {
   "cell_type": "code",
   "execution_count": null,
   "id": "43865efb-ef98-4e44-a84b-36e5eb776d10",
   "metadata": {},
   "outputs": [],
   "source": []
  },
  {
   "cell_type": "markdown",
   "id": "9362d187-c65f-47d2-bfb9-7895ee376ae9",
   "metadata": {},
   "source": [
    "### 속성 디스크립터"
   ]
  },
  {
   "cell_type": "code",
   "execution_count": null,
   "id": "29eb3d37-accc-42dc-a2cc-00e611c4cfce",
   "metadata": {},
   "outputs": [],
   "source": []
  },
  {
   "cell_type": "code",
   "execution_count": null,
   "id": "1c9cd769-11fb-4384-861e-ad982e01eff3",
   "metadata": {},
   "outputs": [],
   "source": []
  },
  {
   "cell_type": "code",
   "execution_count": null,
   "id": "0c61996f-8dff-4fa0-9fef-a65150ed2280",
   "metadata": {},
   "outputs": [],
   "source": []
  },
  {
   "cell_type": "code",
   "execution_count": null,
   "id": "4afb4284-affe-4817-a97a-cccfda8c54d4",
   "metadata": {},
   "outputs": [],
   "source": []
  },
  {
   "cell_type": "code",
   "execution_count": null,
   "id": "2f233b6d-8948-401b-8aa2-44f4bd210562",
   "metadata": {},
   "outputs": [],
   "source": []
  },
  {
   "cell_type": "code",
   "execution_count": null,
   "id": "987327a1-151b-4160-9cba-00048b371ff3",
   "metadata": {},
   "outputs": [],
   "source": []
  },
  {
   "cell_type": "markdown",
   "id": "39933f66-e41e-4f11-a18e-0bcf8557e9d6",
   "metadata": {},
   "source": [
    "### 클래스 메타프로그래밍"
   ]
  },
  {
   "cell_type": "code",
   "execution_count": null,
   "id": "a6b1f4f1-9686-4a46-8af6-2eed36e9218b",
   "metadata": {},
   "outputs": [],
   "source": []
  },
  {
   "cell_type": "code",
   "execution_count": null,
   "id": "30eae3d6-31ec-4a42-b99e-8944f61d7b79",
   "metadata": {},
   "outputs": [],
   "source": []
  },
  {
   "cell_type": "code",
   "execution_count": null,
   "id": "d7c4af08-0db3-4713-8fe2-49d04c687fba",
   "metadata": {},
   "outputs": [],
   "source": []
  },
  {
   "cell_type": "code",
   "execution_count": null,
   "id": "745c54e5-1b98-4f2c-b0d2-3112e770ac8c",
   "metadata": {},
   "outputs": [],
   "source": []
  },
  {
   "cell_type": "code",
   "execution_count": null,
   "id": "d837087e-76e2-4541-bb8d-b03ad1e9da44",
   "metadata": {},
   "outputs": [],
   "source": []
  },
  {
   "cell_type": "code",
   "execution_count": null,
   "id": "1b08e4bc-9232-4694-90ae-fb7cd5e674b5",
   "metadata": {},
   "outputs": [],
   "source": []
  },
  {
   "cell_type": "code",
   "execution_count": null,
   "id": "fdacf924-ab08-4eac-b86d-defca2b8d4f0",
   "metadata": {},
   "outputs": [],
   "source": []
  },
  {
   "cell_type": "code",
   "execution_count": null,
   "id": "206b00c5-9b47-4043-9872-176fad4e93f6",
   "metadata": {},
   "outputs": [],
   "source": []
  }
 ],
 "metadata": {
  "kernelspec": {
   "display_name": "Python 3 (ipykernel)",
   "language": "python",
   "name": "python3"
  },
  "language_info": {
   "codemirror_mode": {
    "name": "ipython",
    "version": 3
   },
   "file_extension": ".py",
   "mimetype": "text/x-python",
   "name": "python",
   "nbconvert_exporter": "python",
   "pygments_lexer": "ipython3",
   "version": "3.12.8"
  }
 },
 "nbformat": 4,
 "nbformat_minor": 5
}
